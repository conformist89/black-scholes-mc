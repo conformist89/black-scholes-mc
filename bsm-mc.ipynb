{
 "cells": [
  {
   "cell_type": "code",
   "execution_count": 12,
   "id": "919694ff-6f4a-4a41-b1c4-c26adbc50f8d",
   "metadata": {},
   "outputs": [],
   "source": [
    "import numpy as np\n",
    "from scipy.stats import norm\n",
    "import random"
   ]
  },
  {
   "cell_type": "code",
   "execution_count": 2,
   "id": "238677dc-8523-4c28-9751-a65729e332ca",
   "metadata": {},
   "outputs": [],
   "source": [
    "N = norm.cdf"
   ]
  },
  {
   "cell_type": "code",
   "execution_count": 3,
   "id": "f4aaf39c-ebd8-45fe-8ba8-d564cd8a772a",
   "metadata": {},
   "outputs": [],
   "source": [
    "# a fair price of European style put option according to Black-Scholes framework\n",
    "\n",
    "def put_option(K, S0, r, sigm, T):\n",
    "    d1 =  (np.log(S0/K) + (r + (sigm**2) / 2)*T) / (sigm*np.sqrt(T))\n",
    "\n",
    "    d2 = d1 - sigm*np.sqrt(T)\n",
    "\n",
    "    p = K * np.exp(-r*T) * N(-d2) - S0 * N(-d1)\n",
    "\n",
    "    return p"
   ]
  },
  {
   "cell_type": "code",
   "execution_count": 4,
   "id": "394fc0f8-c236-4b73-8341-c21b06101dc1",
   "metadata": {},
   "outputs": [],
   "source": [
    "# a fair price of European style put option according to Black-Scholes framework\n",
    "\n",
    "def call_option(K, S0, r, sigm, T):\n",
    "    d1 =  (np.log(S0/K) + (r + (sigm**2) / 2)*T) / (sigm*np.sqrt(T))\n",
    "\n",
    "    d2 = d1 - sigm*np.sqrt(T)\n",
    "\n",
    "    p =  S0 * N(d1) - K * np.exp(-r*T) * N(d2)\n",
    "\n",
    "    return p"
   ]
  },
  {
   "cell_type": "code",
   "execution_count": 5,
   "id": "f09d24c9-be19-4aa4-9c3a-80bffe27e38b",
   "metadata": {},
   "outputs": [
    {
     "name": "stdout",
     "output_type": "stream",
     "text": [
      "Put option price: 2.3759406675006467\n"
     ]
    }
   ],
   "source": [
    "p = put_option(50, 50, 0.1, 0.3, 0.25)\n",
    "print(f\"Put option price: {p}\")"
   ]
  },
  {
   "cell_type": "code",
   "execution_count": 6,
   "id": "e811d83b-a57e-44c9-b116-869f7cde4426",
   "metadata": {},
   "outputs": [
    {
     "name": "stdout",
     "output_type": "stream",
     "text": [
      "Put option price: 3.0325113365550607\n"
     ]
    }
   ],
   "source": [
    "p = put_option(50, 48.52, 0.1, 0.3, 0.25)\n",
    "print(f\"Put option price: {p}\")"
   ]
  },
  {
   "cell_type": "markdown",
   "id": "64c14c4f-54fd-41a4-a366-2e050c3c68be",
   "metadata": {},
   "source": [
    "## Geometric Brownian Motion (GBM) Model\n",
    "\n",
    "We model the stock price \\( S_t \\) under the **risk–neutral measure** as the stochastic differential equation (SDE):\n",
    "\n",
    "$$\n",
    "dS_t = r S_t \\, dt + \\sigma S_t \\, dW_t\n",
    "$$\n",
    "\n",
    "where:\n",
    "- $S_t$ — asset price at time t\n",
    "- $r$ — constant risk-free interest rate\n",
    "- $\\sigma$ — volatility (standard deviation of returns)\n",
    "- $W_t$ — standard Brownian motion (Wiener process)\n",
    "\n",
    "---\n",
    "\n",
    "### Exact solution\n",
    "\n",
    "Over a small time step \\(\\Delta t\\), the **exact** GBM solution is:\n",
    "\n",
    "$$\n",
    "S_{t+\\Delta t} = S_t \\cdot \\exp\\left[ \\left( r - \\frac{1}{2} \\sigma^2 \\right) \\Delta t + \\sigma \\sqrt{\\Delta t} \\, Z \\right]\n",
    "$$\n",
    "\n",
    "where:\n",
    "- $Z \\sim \\mathcal{N}(0,1)$ is a standard normal random variable  \n",
    "- $\\left( r - \\frac{1}{2} \\sigma^2 \\right) \\Delta t$ is the deterministic drift  \n",
    "- $\\sigma \\sqrt{\\Delta t} \\, Z$ is the random shock from Brownian motion increments $\\Delta W_t\\$\n",
    "\n",
    "---\n",
    "\n",
    "**Parameters in the solution:**\n",
    "- $S_0$: initial asset price at t = 0\n",
    "- r: risk-free interest rate (controls average growth rate under risk-neutral measure)  \n",
    "- $\\sigma$: volatility (controls magnitude of randomness)  \n",
    "- $\\Delta t$: time step size (in years)  \n",
    "- $Z$: standard normal random variable representing the shock in each step"
   ]
  },
  {
   "cell_type": "code",
   "execution_count": 11,
   "id": "0f8cb7ab-ab7a-42b0-b95d-9179d3aea342",
   "metadata": {},
   "outputs": [],
   "source": [
    "def mc_pricing(S0,r, sigm, T, N):\n",
    "    dt = T/ N\n",
    "    z = random.random() \n",
    "\n",
    "    prices = [S0]\n",
    "\n",
    "    price = S0\n",
    "    for i in range(N):\n",
    "        price  = price * np.exp( (r - 0.5 * sigm**2)dt + np.sqrt(dt) * z * sigma )\n",
    "        prices.append(price)\n",
    "\n",
    "    return prices"
   ]
  },
  {
   "cell_type": "code",
   "execution_count": null,
   "id": "9601e7a8-115a-4f87-b13b-f797b04f3a64",
   "metadata": {},
   "outputs": [],
   "source": []
  }
 ],
 "metadata": {
  "kernelspec": {
   "display_name": "Python 3.12 (Data Science)",
   "language": "python",
   "name": "python312"
  },
  "language_info": {
   "codemirror_mode": {
    "name": "ipython",
    "version": 3
   },
   "file_extension": ".py",
   "mimetype": "text/x-python",
   "name": "python",
   "nbconvert_exporter": "python",
   "pygments_lexer": "ipython3",
   "version": "3.12.11"
  }
 },
 "nbformat": 4,
 "nbformat_minor": 5
}
