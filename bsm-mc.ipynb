{
 "cells": [
  {
   "cell_type": "code",
   "execution_count": 1,
   "id": "919694ff-6f4a-4a41-b1c4-c26adbc50f8d",
   "metadata": {},
   "outputs": [],
   "source": [
    "import numpy as np\n",
    "from scipy.stats import norm"
   ]
  },
  {
   "cell_type": "code",
   "execution_count": 2,
   "id": "238677dc-8523-4c28-9751-a65729e332ca",
   "metadata": {},
   "outputs": [],
   "source": [
    "N = norm.cdf"
   ]
  },
  {
   "cell_type": "code",
   "execution_count": 3,
   "id": "f4aaf39c-ebd8-45fe-8ba8-d564cd8a772a",
   "metadata": {},
   "outputs": [],
   "source": [
    "# a fair price of European style put option according to Black-Scholes framework\n",
    "\n",
    "def put_option(K, S0, r, sigm, T):\n",
    "    d1 =  (np.log(S0/K) + (r + (sigm**2) / 2)*T) / (sigm*np.sqrt(T))\n",
    "\n",
    "    d2 = d1 - sigm*np.sqrt(T)\n",
    "\n",
    "    p = K * np.exp(-r*T) * N(-d2) - S0 * N(-d1)\n",
    "\n",
    "    return p"
   ]
  },
  {
   "cell_type": "code",
   "execution_count": 4,
   "id": "394fc0f8-c236-4b73-8341-c21b06101dc1",
   "metadata": {},
   "outputs": [],
   "source": [
    "# a fair price of European style put option according to Black-Scholes framework\n",
    "\n",
    "def call_option(K, S0, r, sigm, T):\n",
    "    d1 =  (np.log(S0/K) + (r + (sigm**2) / 2)*T) / (sigm*np.sqrt(T))\n",
    "\n",
    "    d2 = d1 - sigm*np.sqrt(T)\n",
    "\n",
    "    p =  S0 * N(d1) - K * np.exp(-r*T) * N(d2)\n",
    "\n",
    "    return p"
   ]
  },
  {
   "cell_type": "code",
   "execution_count": 5,
   "id": "f09d24c9-be19-4aa4-9c3a-80bffe27e38b",
   "metadata": {},
   "outputs": [
    {
     "name": "stdout",
     "output_type": "stream",
     "text": [
      "Put option price: 2.3759406675006467\n"
     ]
    }
   ],
   "source": [
    "p = put_option(50, 50, 0.1, 0.3, 0.25)\n",
    "print(f\"Put option price: {p}\")"
   ]
  },
  {
   "cell_type": "code",
   "execution_count": 6,
   "id": "e811d83b-a57e-44c9-b116-869f7cde4426",
   "metadata": {},
   "outputs": [
    {
     "name": "stdout",
     "output_type": "stream",
     "text": [
      "Put option price: 3.0325113365550607\n"
     ]
    }
   ],
   "source": [
    "p = put_option(50, 48.52, 0.1, 0.3, 0.25)\n",
    "print(f\"Put option price: {p}\")"
   ]
  },
  {
   "cell_type": "code",
   "execution_count": null,
   "id": "0f8cb7ab-ab7a-42b0-b95d-9179d3aea342",
   "metadata": {},
   "outputs": [],
   "source": []
  }
 ],
 "metadata": {
  "kernelspec": {
   "display_name": "Python 3.12 (Data Science)",
   "language": "python",
   "name": "python312"
  },
  "language_info": {
   "codemirror_mode": {
    "name": "ipython",
    "version": 3
   },
   "file_extension": ".py",
   "mimetype": "text/x-python",
   "name": "python",
   "nbconvert_exporter": "python",
   "pygments_lexer": "ipython3",
   "version": "3.12.11"
  }
 },
 "nbformat": 4,
 "nbformat_minor": 5
}
